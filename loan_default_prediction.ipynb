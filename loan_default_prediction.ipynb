{
 "cells": [
  {
   "cell_type": "code",
   "execution_count": 1,
   "metadata": {},
   "outputs": [
    {
     "name": "stderr",
     "output_type": "stream",
     "text": [
      "/Users/clundberg/.local/share/virtualenvs/loan-default-EfrBu0lz/lib/python3.8/site-packages/tqdm/auto.py:21: TqdmWarning: IProgress not found. Please update jupyter and ipywidgets. See https://ipywidgets.readthedocs.io/en/stable/user_install.html\n",
      "  from .autonotebook import tqdm as notebook_tqdm\n"
     ]
    }
   ],
   "source": [
    "import numpy as np \n",
    "import pandas as pd\n",
    "import seaborn as sns\n",
    "from sklearn.preprocessing import StandardScaler\n",
    "from sklearn.linear_model import LogisticRegression\n",
    "from sklearn.model_selection import (train_test_split,\n",
    "                                     GridSearchCV,\n",
    ")\n",
    "from sklearn.metrics import (roc_curve,\n",
    "                             average_precision_score,\n",
    "                             roc_auc_score,\n",
    "                             brier_score_loss,\n",
    ")\n",
    "from lightgbm import LGBMClassifier\n",
    "import optuna.integration.lightgbm as lgb\n",
    "import optuna\n",
    "from preprocessing import preprocess"
   ]
  },
  {
   "cell_type": "markdown",
   "metadata": {},
   "source": [
    "## Preprocess Data"
   ]
  },
  {
   "cell_type": "code",
   "execution_count": 2,
   "metadata": {},
   "outputs": [
    {
     "name": "stderr",
     "output_type": "stream",
     "text": [
      "/var/folders/cb/pwqg37_d6zl28q9nq70dkfzw0000gn/T/ipykernel_67018/3480117357.py:1: DtypeWarning: Columns (0,19,49,59,118,129,130,131,134,135,136,139,145,146,147) have mixed types. Specify dtype option on import or set low_memory=False.\n",
      "  df = pd.read_csv('data/accepted_2007_to_2018Q4.csv')\n",
      "/Users/clundberg/Development/loan-default/preprocessing.py:24: UserWarning: Could not infer format, so each element will be parsed individually, falling back to `dateutil`. To ensure parsing is consistent and as-expected, please specify a format.\n",
      "  df[\"earliest_cr_line\"] = pd.to_datetime(df[\"earliest_cr_line\"]).dt.year.astype(int)\n"
     ]
    }
   ],
   "source": [
    "df = pd.read_csv('data/accepted_2007_to_2018Q4.csv')\n",
    "df = preprocess(df)\n",
    "df.dropna(inplace=True)\n",
    "\n",
    "X, y = df.drop(\"loan_status\", axis=1), df[\"loan_status\"]\n",
    "cols = [col for col in X.columns if X[col].dtype == \"float64\"]\n",
    "X = X[cols]\n",
    "X_train, X_test, y_train, y_test = train_test_split(X, y, test_size=0.2, random_state=1, stratify=y)\n",
    "X_train, X_val, y_train, y_val = train_test_split(X_train, y_train, test_size=0.2, random_state=1, stratify=y_train)\n",
    "scaler = StandardScaler()\n",
    "scaler.fit(X_train)\n",
    "X_train_scaled, X_val_scaled = scaler.transform(X_train), scaler.transform(X_val)"
   ]
  },
  {
   "cell_type": "markdown",
   "metadata": {},
   "source": [
    "## Train Baseline Classifiers\n",
    "\n",
    "In this section, two baseline models are trained:\n",
    "\n",
    "* `Logistic Regression`\n",
    "* `Gradient Boosting Machine`"
   ]
  },
  {
   "cell_type": "code",
   "execution_count": 3,
   "metadata": {},
   "outputs": [],
   "source": [
    "lr_clf = LogisticRegression(random_state=0)\n",
    "lr_clf.fit(X_train_scaled, y_train)\n",
    "y_preds = lr_clf.predict_proba(X_val_scaled)\n",
    "fpr, tpr, _ = roc_curve(y_val, y_preds[:, 1], pos_label=\"Fully Paid\")\n",
    "lr_results = pd.DataFrame({\"Brier Score\": [brier_score_loss(y_val, y_preds[:, 1], pos_label=\"Fully Paid\")], \n",
    "                           \"AUC\": [roc_auc_score(y_val, y_preds[:, 1])],\n",
    "                           \"AUC-PR\": [average_precision_score(y_val, y_preds[:, 1], pos_label=\"Fully Paid\")], \n",
    "                           \"Model\": [\"Logistic Regression\"]})\n",
    "lr_roc_curve = pd.DataFrame({\"False Positive Rate\": fpr, \"True Positive Rate\": tpr, \n",
    "                           \"Model\": [\"Logistic Regression\"] * len(fpr)})"
   ]
  },
  {
   "cell_type": "code",
   "execution_count": 4,
   "metadata": {},
   "outputs": [
    {
     "name": "stdout",
     "output_type": "stream",
     "text": [
      "[LightGBM] [Info] Number of positive: 616993, number of negative: 150752\n",
      "[LightGBM] [Info] Auto-choosing row-wise multi-threading, the overhead of testing was 0.015906 seconds.\n",
      "You can set `force_row_wise=true` to remove the overhead.\n",
      "And if memory is not enough, you can set `force_col_wise=true`.\n",
      "[LightGBM] [Info] Total Bins 1991\n",
      "[LightGBM] [Info] Number of data points in the train set: 767745, number of used features: 12\n",
      "[LightGBM] [Info] [binary:BoostFromScore]: pavg=0.803643 -> initscore=1.409222\n",
      "[LightGBM] [Info] Start training from score 1.409222\n"
     ]
    },
    {
     "data": {
      "text/html": [
       "<div>\n",
       "<style scoped>\n",
       "    .dataframe tbody tr th:only-of-type {\n",
       "        vertical-align: middle;\n",
       "    }\n",
       "\n",
       "    .dataframe tbody tr th {\n",
       "        vertical-align: top;\n",
       "    }\n",
       "\n",
       "    .dataframe thead th {\n",
       "        text-align: right;\n",
       "    }\n",
       "</style>\n",
       "<table border=\"1\" class=\"dataframe\">\n",
       "  <thead>\n",
       "    <tr style=\"text-align: right;\">\n",
       "      <th></th>\n",
       "      <th>Brier Score</th>\n",
       "      <th>AUC</th>\n",
       "      <th>AUC-PR</th>\n",
       "      <th>Model</th>\n",
       "    </tr>\n",
       "  </thead>\n",
       "  <tbody>\n",
       "    <tr>\n",
       "      <th>0</th>\n",
       "      <td>0.15</td>\n",
       "      <td>0.70</td>\n",
       "      <td>0.90</td>\n",
       "      <td>Logistic Regression</td>\n",
       "    </tr>\n",
       "    <tr>\n",
       "      <th>0</th>\n",
       "      <td>0.22</td>\n",
       "      <td>0.71</td>\n",
       "      <td>0.91</td>\n",
       "      <td>Gradient Boosting Machine</td>\n",
       "    </tr>\n",
       "  </tbody>\n",
       "</table>\n",
       "</div>"
      ],
      "text/plain": [
       "   Brier Score   AUC  AUC-PR                      Model\n",
       "0         0.15  0.70    0.90        Logistic Regression\n",
       "0         0.22  0.71    0.91  Gradient Boosting Machine"
      ]
     },
     "execution_count": 4,
     "metadata": {},
     "output_type": "execute_result"
    }
   ],
   "source": [
    "# Baseline GBM Classifier\n",
    "gbm = LGBMClassifier(is_unbalance=True)\n",
    "gbm.fit(X_train, y_train)\n",
    "y_preds = gbm.predict_proba(X_val)\n",
    "fpr, tpr, _ = roc_curve(y_val, y_preds[:, 1], pos_label=\"Fully Paid\")\n",
    "gbm_results = pd.DataFrame({\"Brier Score\": [brier_score_loss(y_val, y_preds[:, 1], pos_label=\"Fully Paid\")], \n",
    "                           \"AUC\": [roc_auc_score(y_val, y_preds[:, 1])],\n",
    "                           \"AUC-PR\": [average_precision_score(y_val, y_preds[:, 1], pos_label=\"Fully Paid\")], \n",
    "                           \"Model\": [\"Gradient Boosting Machine\"]})\n",
    "gbm_roc_curve = pd.DataFrame({\"False Positive Rate\": fpr, \"True Positive Rate\": tpr, \"Model\": [\"Gradient Boosting Machine\"] * len(fpr)})\n",
    "results = pd.concat((lr_results, gbm_results), axis=0)\n",
    "roc_curves = pd.concat((lr_roc_curve, gbm_roc_curve), axis=0)\n",
    "results.round(2)"
   ]
  },
  {
   "cell_type": "code",
   "execution_count": 5,
   "metadata": {},
   "outputs": [
    {
     "data": {
      "text/plain": [
       "<Axes: xlabel='False Positive Rate', ylabel='True Positive Rate'>"
      ]
     },
     "execution_count": 5,
     "metadata": {},
     "output_type": "execute_result"
    },
    {
     "data": {
      "image/png": "[encoded data removed]",
      "text/plain": [
       "<Figure size 640x480 with 1 Axes>"
      ]
     },
     "metadata": {},
     "output_type": "display_data"
    }
   ],
   "source": [
    "sns.lineplot(data=roc_curves, x=\"False Positive Rate\", y=\"True Positive Rate\", hue=\"Model\", errorbar=None)"
   ]
  },
  {
   "cell_type": "markdown",
   "metadata": {},
   "source": [
    "## Hyperparameter Optimization"
   ]
  },
  {
   "cell_type": "code",
   "execution_count": 16,
   "metadata": {},
   "outputs": [
    {
     "name": "stderr",
     "output_type": "stream",
     "text": [
      "[I 2024-07-29 14:27:02,419] A new study created in memory with name: lgb_tuning\n",
      "feature_fraction, val_score: 0.714375:  14%|#4        | 1/7 [00:26<02:39, 26.51s/it][I 2024-07-29 14:27:29,049] Trial 0 finished with value: 0.7143749950312526 and parameters: {'feature_fraction': 0.8}. Best is trial 0 with value: 0.7143749950312526.\n",
      "feature_fraction, val_score: 0.715202:  29%|##8       | 2/7 [00:52<02:10, 26.12s/it][I 2024-07-29 14:27:54,891] Trial 1 finished with value: 0.7152023784375887 and parameters: {'feature_fraction': 0.5}. Best is trial 1 with value: 0.7152023784375887.\n",
      "feature_fraction, val_score: 0.715202:  43%|####2     | 3/7 [01:19<01:45, 26.44s/it][I 2024-07-29 14:28:21,722] Trial 2 finished with value: 0.7140781907681931 and parameters: {'feature_fraction': 1.0}. Best is trial 1 with value: 0.7152023784375887.\n",
      "feature_fraction, val_score: 0.715202:  57%|#####7    | 4/7 [01:46<01:20, 26.89s/it][I 2024-07-29 14:28:49,291] Trial 3 finished with value: 0.7150281996277528 and parameters: {'feature_fraction': 0.6}. Best is trial 1 with value: 0.7152023784375887.\n",
      "feature_fraction, val_score: 0.715202:  71%|#######1  | 5/7 [02:14<00:54, 27.19s/it][I 2024-07-29 14:29:17,007] Trial 4 finished with value: 0.714204164556857 and parameters: {'feature_fraction': 0.8999999999999999}. Best is trial 1 with value: 0.7152023784375887.\n",
      "feature_fraction, val_score: 0.715202:  86%|########5 | 6/7 [02:41<00:27, 27.04s/it][I 2024-07-29 14:29:43,757] Trial 5 finished with value: 0.7150722746625088 and parameters: {'feature_fraction': 0.4}. Best is trial 1 with value: 0.7152023784375887.\n",
      "feature_fraction, val_score: 0.715202: 100%|##########| 7/7 [03:09<00:00, 27.46s/it][I 2024-07-29 14:30:12,080] Trial 6 finished with value: 0.7148247090783486 and parameters: {'feature_fraction': 0.7}. Best is trial 1 with value: 0.7152023784375887.\n",
      "feature_fraction, val_score: 0.715202: 100%|##########| 7/7 [03:09<00:00, 27.08s/it]\n",
      "num_leaves, val_score: 0.717127:   5%|5         | 1/20 [00:38<12:11, 38.48s/it][I 2024-07-29 14:30:50,568] Trial 7 finished with value: 0.7171268088162177 and parameters: {'num_leaves': 196}. Best is trial 7 with value: 0.7171268088162177.\n",
      "num_leaves, val_score: 0.717127:  10%|#         | 2/20 [01:14<11:08, 37.12s/it][I 2024-07-29 14:31:26,733] Trial 8 finished with value: 0.7167616317670905 and parameters: {'num_leaves': 87}. Best is trial 7 with value: 0.7171268088162177.\n",
      "num_leaves, val_score: 0.717149:  15%|#5        | 3/20 [01:56<11:06, 39.23s/it][I 2024-07-29 14:32:08,478] Trial 9 finished with value: 0.717149090857553 and parameters: {'num_leaves': 205}. Best is trial 9 with value: 0.717149090857553.\n",
      "num_leaves, val_score: 0.717149:  15%|#5        | 3/20 [01:56<10:59, 38.80s/it]\n",
      "  0%|          | 0/10 [00:00<?, ?it/s]\n",
      "  0%|          | 0/6 [00:00<?, ?it/s]\n",
      "  0%|          | 0/20 [00:00<?, ?it/s]\n",
      "  0%|          | 0/5 [00:00<?, ?it/s]\n"
     ]
    }
   ],
   "source": [
    "# Use Optuna for HPO\n",
    "# Try auc and average_precision_score for metrics\n",
    "study = optuna.create_study(direction='maximize', study_name='lgb_tuning')\n",
    "\n",
    "dtrain = lgb.Dataset(np.array(X_train), label=np.where(y_train == \"Fully Paid\", 1, 0))\n",
    "dval = lgb.Dataset(np.array(X_val), label=np.where(y_val == \"Fully Paid\", 1, 0))\n",
    "\n",
    "params = {\n",
    "        \"objective\": \"binary\",\n",
    "        \"metric\": \"auc\",\n",
    "        \"verbosity\": -1,\n",
    "        \"boosting_type\": \"gbdt\",     \n",
    "        \"learning_rate\": 0.01,           \n",
    "        \"seed\": 42\n",
    "    }\n",
    "\n",
    "tuner = lgb.LightGBMTuner(params, \n",
    "                          train_set=dtrain, \n",
    "                          valid_sets=dval,\n",
    "                          study=study,   \n",
    "                          time_budget=300,                        \n",
    "                          num_boost_round=1000)\n",
    "\n",
    "tuner.run()"
   ]
  }
 ],
 "metadata": {
  "kernelspec": {
   "display_name": "Python 3",
   "language": "python",
   "name": "python3"
  },
  "language_info": {
   "codemirror_mode": {
    "name": "ipython",
    "version": 3
   },
   "file_extension": ".py",
   "mimetype": "text/x-python",
   "name": "python",
   "nbconvert_exporter": "python",
   "pygments_lexer": "ipython3",
   "version": "3.8.5-final"
  },
  "orig_nbformat": 2
 },
 "nbformat": 4,
 "nbformat_minor": 2
}
